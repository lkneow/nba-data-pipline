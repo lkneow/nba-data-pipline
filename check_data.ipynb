{
 "cells": [
  {
   "cell_type": "code",
   "execution_count": 2,
   "metadata": {},
   "outputs": [],
   "source": [
    "import pandas as pd\n",
    "import os\n",
    "from pathlib import Path\n",
    "from constants import DATA_DIR\n",
    "import zipfile\n",
    "import requests"
   ]
  },
  {
   "cell_type": "code",
   "execution_count": 4,
   "metadata": {},
   "outputs": [],
   "source": [
    "ZIP_FILE_URL = \"https://www.kaggle.com/api/v1/datasets/download/nathanlauga/nba-games\"\n",
    "# DOWNLOAD_DIR = \"./tmp/airflow_downloads\"\n",
    "os.makedirs(DATA_DIR, exist_ok=True)\n",
    "zip_file_path = os.path.join(DATA_DIR, \"downloaded_file.zip\")"
   ]
  },
  {
   "cell_type": "code",
   "execution_count": 5,
   "metadata": {},
   "outputs": [
    {
     "name": "stdout",
     "output_type": "stream",
     "text": [
      "ZIP file downloaded to data/downloaded_file.zip\n"
     ]
    }
   ],
   "source": [
    "response = requests.get(ZIP_FILE_URL, stream=True)\n",
    "if response.status_code == 200:\n",
    "    with open(zip_file_path, \"wb\") as f:\n",
    "        for chunk in response.iter_content(chunk_size=1024):\n",
    "            f.write(chunk)\n",
    "    print(f\"ZIP file downloaded to {zip_file_path}\")\n",
    "    # kwargs['ti'].xcom_push(key='zip_file_path', value=zip_file_path)\n",
    "else:\n",
    "    raise Exception(f\"Failed to download file. Status code: {response.status_code}\")"
   ]
  },
  {
   "cell_type": "code",
   "execution_count": 6,
   "metadata": {},
   "outputs": [
    {
     "name": "stdout",
     "output_type": "stream",
     "text": [
      "ZIP file extracted to data/extracted_files\n"
     ]
    }
   ],
   "source": [
    "# zip_file_path = kwargs['ti'].xcom_pull(key='zip_file_path', task_ids='download_zip')\n",
    "extract_dir = os.path.join(DATA_DIR, \"extracted_files\")\n",
    "os.makedirs(extract_dir, exist_ok=True)\n",
    "\n",
    "with zipfile.ZipFile(zip_file_path, 'r') as zip_ref:\n",
    "    zip_ref.extractall(extract_dir)\n",
    "print(f\"ZIP file extracted to {extract_dir}\")"
   ]
  },
  {
   "cell_type": "code",
   "execution_count": null,
   "metadata": {},
   "outputs": [],
   "source": []
  },
  {
   "cell_type": "code",
   "execution_count": null,
   "metadata": {},
   "outputs": [],
   "source": []
  },
  {
   "cell_type": "code",
   "execution_count": 6,
   "metadata": {},
   "outputs": [],
   "source": [
    "Path(DATA_DIR).mkdir(parents=True, exist_ok=True)"
   ]
  },
  {
   "cell_type": "code",
   "execution_count": 9,
   "metadata": {},
   "outputs": [
    {
     "name": "stderr",
     "output_type": "stream",
     "text": [
      "  % Total    % Received % Xferd  Average Speed   Time    Time     Time  Current\n",
      "                                 Dload  Upload   Total   Spent    Left  Speed\n",
      "  0     0    0     0    0     0      0      0 --:--:-- --:--:-- --:--:--     0\n",
      "100 21.2M  100 21.2M    0     0  5319k      0  0:00:04  0:00:04 --:--:-- 9230k\n"
     ]
    },
    {
     "data": {
      "text/plain": [
       "0"
      ]
     },
     "execution_count": 9,
     "metadata": {},
     "output_type": "execute_result"
    }
   ],
   "source": [
    "os.system(f\"curl -L -o {DATA_DIR}/nba-games.zip https://www.kaggle.com/api/v1/datasets/download/nathanlauga/nba-games\")"
   ]
  },
  {
   "cell_type": "code",
   "execution_count": null,
   "metadata": {},
   "outputs": [
    {
     "name": "stdout",
     "output_type": "stream",
     "text": [
      "Archive:  data/nba-games.zip\n",
      "  inflating: data/games.csv          \n",
      "  inflating: data/games_details.csv  \n",
      "  inflating: data/players.csv        \n",
      "  inflating: data/ranking.csv        \n",
      "  inflating: data/teams.csv          \n"
     ]
    },
    {
     "data": {
      "text/plain": [
       "0"
      ]
     },
     "execution_count": 11,
     "metadata": {},
     "output_type": "execute_result"
    }
   ],
   "source": [
    "os.system(f\"unzip {DATA_DIR}/nba-games.zip -d {DATA_DIR}\")"
   ]
  },
  {
   "cell_type": "code",
   "execution_count": 12,
   "metadata": {},
   "outputs": [
    {
     "data": {
      "text/plain": [
       "0"
      ]
     },
     "execution_count": 12,
     "metadata": {},
     "output_type": "execute_result"
    }
   ],
   "source": [
    "os.system(f\"rm {DATA_DIR}/nba-games.zip\")"
   ]
  },
  {
   "cell_type": "code",
   "execution_count": 14,
   "metadata": {},
   "outputs": [
    {
     "data": {
      "text/html": [
       "<div>\n",
       "<style scoped>\n",
       "    .dataframe tbody tr th:only-of-type {\n",
       "        vertical-align: middle;\n",
       "    }\n",
       "\n",
       "    .dataframe tbody tr th {\n",
       "        vertical-align: top;\n",
       "    }\n",
       "\n",
       "    .dataframe thead th {\n",
       "        text-align: right;\n",
       "    }\n",
       "</style>\n",
       "<table border=\"1\" class=\"dataframe\">\n",
       "  <thead>\n",
       "    <tr style=\"text-align: right;\">\n",
       "      <th></th>\n",
       "      <th>PLAYER_NAME</th>\n",
       "      <th>TEAM_ID</th>\n",
       "      <th>PLAYER_ID</th>\n",
       "      <th>SEASON</th>\n",
       "    </tr>\n",
       "  </thead>\n",
       "  <tbody>\n",
       "    <tr>\n",
       "      <th>0</th>\n",
       "      <td>Royce O'Neale</td>\n",
       "      <td>1610612762</td>\n",
       "      <td>1626220</td>\n",
       "      <td>2019</td>\n",
       "    </tr>\n",
       "    <tr>\n",
       "      <th>1</th>\n",
       "      <td>Bojan Bogdanovic</td>\n",
       "      <td>1610612762</td>\n",
       "      <td>202711</td>\n",
       "      <td>2019</td>\n",
       "    </tr>\n",
       "    <tr>\n",
       "      <th>2</th>\n",
       "      <td>Rudy Gobert</td>\n",
       "      <td>1610612762</td>\n",
       "      <td>203497</td>\n",
       "      <td>2019</td>\n",
       "    </tr>\n",
       "    <tr>\n",
       "      <th>3</th>\n",
       "      <td>Donovan Mitchell</td>\n",
       "      <td>1610612762</td>\n",
       "      <td>1628378</td>\n",
       "      <td>2019</td>\n",
       "    </tr>\n",
       "    <tr>\n",
       "      <th>4</th>\n",
       "      <td>Mike Conley</td>\n",
       "      <td>1610612762</td>\n",
       "      <td>201144</td>\n",
       "      <td>2019</td>\n",
       "    </tr>\n",
       "  </tbody>\n",
       "</table>\n",
       "</div>"
      ],
      "text/plain": [
       "        PLAYER_NAME     TEAM_ID  PLAYER_ID  SEASON\n",
       "0     Royce O'Neale  1610612762    1626220    2019\n",
       "1  Bojan Bogdanovic  1610612762     202711    2019\n",
       "2       Rudy Gobert  1610612762     203497    2019\n",
       "3  Donovan Mitchell  1610612762    1628378    2019\n",
       "4       Mike Conley  1610612762     201144    2019"
      ]
     },
     "execution_count": 14,
     "metadata": {},
     "output_type": "execute_result"
    }
   ],
   "source": [
    "pd.read_csv(f\"{DATA_DIR}/players.csv\").head()"
   ]
  },
  {
   "cell_type": "code",
   "execution_count": 15,
   "metadata": {},
   "outputs": [
    {
     "data": {
      "text/html": [
       "<div>\n",
       "<style scoped>\n",
       "    .dataframe tbody tr th:only-of-type {\n",
       "        vertical-align: middle;\n",
       "    }\n",
       "\n",
       "    .dataframe tbody tr th {\n",
       "        vertical-align: top;\n",
       "    }\n",
       "\n",
       "    .dataframe thead th {\n",
       "        text-align: right;\n",
       "    }\n",
       "</style>\n",
       "<table border=\"1\" class=\"dataframe\">\n",
       "  <thead>\n",
       "    <tr style=\"text-align: right;\">\n",
       "      <th></th>\n",
       "      <th>LEAGUE_ID</th>\n",
       "      <th>TEAM_ID</th>\n",
       "      <th>MIN_YEAR</th>\n",
       "      <th>MAX_YEAR</th>\n",
       "      <th>ABBREVIATION</th>\n",
       "      <th>NICKNAME</th>\n",
       "      <th>YEARFOUNDED</th>\n",
       "      <th>CITY</th>\n",
       "      <th>ARENA</th>\n",
       "      <th>ARENACAPACITY</th>\n",
       "      <th>OWNER</th>\n",
       "      <th>GENERALMANAGER</th>\n",
       "      <th>HEADCOACH</th>\n",
       "      <th>DLEAGUEAFFILIATION</th>\n",
       "    </tr>\n",
       "  </thead>\n",
       "  <tbody>\n",
       "    <tr>\n",
       "      <th>0</th>\n",
       "      <td>0</td>\n",
       "      <td>1610612737</td>\n",
       "      <td>1949</td>\n",
       "      <td>2019</td>\n",
       "      <td>ATL</td>\n",
       "      <td>Hawks</td>\n",
       "      <td>1949</td>\n",
       "      <td>Atlanta</td>\n",
       "      <td>State Farm Arena</td>\n",
       "      <td>18729.0</td>\n",
       "      <td>Tony Ressler</td>\n",
       "      <td>Travis Schlenk</td>\n",
       "      <td>Lloyd Pierce</td>\n",
       "      <td>Erie Bayhawks</td>\n",
       "    </tr>\n",
       "    <tr>\n",
       "      <th>1</th>\n",
       "      <td>0</td>\n",
       "      <td>1610612738</td>\n",
       "      <td>1946</td>\n",
       "      <td>2019</td>\n",
       "      <td>BOS</td>\n",
       "      <td>Celtics</td>\n",
       "      <td>1946</td>\n",
       "      <td>Boston</td>\n",
       "      <td>TD Garden</td>\n",
       "      <td>18624.0</td>\n",
       "      <td>Wyc Grousbeck</td>\n",
       "      <td>Danny Ainge</td>\n",
       "      <td>Brad Stevens</td>\n",
       "      <td>Maine Red Claws</td>\n",
       "    </tr>\n",
       "    <tr>\n",
       "      <th>2</th>\n",
       "      <td>0</td>\n",
       "      <td>1610612740</td>\n",
       "      <td>2002</td>\n",
       "      <td>2019</td>\n",
       "      <td>NOP</td>\n",
       "      <td>Pelicans</td>\n",
       "      <td>2002</td>\n",
       "      <td>New Orleans</td>\n",
       "      <td>Smoothie King Center</td>\n",
       "      <td>NaN</td>\n",
       "      <td>Tom Benson</td>\n",
       "      <td>Trajan Langdon</td>\n",
       "      <td>Alvin Gentry</td>\n",
       "      <td>No Affiliate</td>\n",
       "    </tr>\n",
       "    <tr>\n",
       "      <th>3</th>\n",
       "      <td>0</td>\n",
       "      <td>1610612741</td>\n",
       "      <td>1966</td>\n",
       "      <td>2019</td>\n",
       "      <td>CHI</td>\n",
       "      <td>Bulls</td>\n",
       "      <td>1966</td>\n",
       "      <td>Chicago</td>\n",
       "      <td>United Center</td>\n",
       "      <td>21711.0</td>\n",
       "      <td>Jerry Reinsdorf</td>\n",
       "      <td>Gar Forman</td>\n",
       "      <td>Jim Boylen</td>\n",
       "      <td>Windy City Bulls</td>\n",
       "    </tr>\n",
       "    <tr>\n",
       "      <th>4</th>\n",
       "      <td>0</td>\n",
       "      <td>1610612742</td>\n",
       "      <td>1980</td>\n",
       "      <td>2019</td>\n",
       "      <td>DAL</td>\n",
       "      <td>Mavericks</td>\n",
       "      <td>1980</td>\n",
       "      <td>Dallas</td>\n",
       "      <td>American Airlines Center</td>\n",
       "      <td>19200.0</td>\n",
       "      <td>Mark Cuban</td>\n",
       "      <td>Donnie Nelson</td>\n",
       "      <td>Rick Carlisle</td>\n",
       "      <td>Texas Legends</td>\n",
       "    </tr>\n",
       "  </tbody>\n",
       "</table>\n",
       "</div>"
      ],
      "text/plain": [
       "   LEAGUE_ID     TEAM_ID  MIN_YEAR  MAX_YEAR ABBREVIATION   NICKNAME  \\\n",
       "0          0  1610612737      1949      2019          ATL      Hawks   \n",
       "1          0  1610612738      1946      2019          BOS    Celtics   \n",
       "2          0  1610612740      2002      2019          NOP   Pelicans   \n",
       "3          0  1610612741      1966      2019          CHI      Bulls   \n",
       "4          0  1610612742      1980      2019          DAL  Mavericks   \n",
       "\n",
       "   YEARFOUNDED         CITY                     ARENA  ARENACAPACITY  \\\n",
       "0         1949      Atlanta          State Farm Arena        18729.0   \n",
       "1         1946       Boston                 TD Garden        18624.0   \n",
       "2         2002  New Orleans      Smoothie King Center            NaN   \n",
       "3         1966      Chicago             United Center        21711.0   \n",
       "4         1980       Dallas  American Airlines Center        19200.0   \n",
       "\n",
       "             OWNER  GENERALMANAGER      HEADCOACH DLEAGUEAFFILIATION  \n",
       "0     Tony Ressler  Travis Schlenk   Lloyd Pierce      Erie Bayhawks  \n",
       "1    Wyc Grousbeck     Danny Ainge   Brad Stevens    Maine Red Claws  \n",
       "2       Tom Benson  Trajan Langdon   Alvin Gentry       No Affiliate  \n",
       "3  Jerry Reinsdorf      Gar Forman     Jim Boylen   Windy City Bulls  \n",
       "4       Mark Cuban   Donnie Nelson  Rick Carlisle      Texas Legends  "
      ]
     },
     "execution_count": 15,
     "metadata": {},
     "output_type": "execute_result"
    }
   ],
   "source": [
    "pd.read_csv(f\"{DATA_DIR}/teams.csv\").head()"
   ]
  },
  {
   "cell_type": "code",
   "execution_count": 14,
   "metadata": {},
   "outputs": [],
   "source": [
    "games = pd.read_csv(f\"{DATA_DIR}/games.csv\")"
   ]
  },
  {
   "cell_type": "code",
   "execution_count": 15,
   "metadata": {},
   "outputs": [
    {
     "data": {
      "text/html": [
       "<div>\n",
       "<style scoped>\n",
       "    .dataframe tbody tr th:only-of-type {\n",
       "        vertical-align: middle;\n",
       "    }\n",
       "\n",
       "    .dataframe tbody tr th {\n",
       "        vertical-align: top;\n",
       "    }\n",
       "\n",
       "    .dataframe thead th {\n",
       "        text-align: right;\n",
       "    }\n",
       "</style>\n",
       "<table border=\"1\" class=\"dataframe\">\n",
       "  <thead>\n",
       "    <tr style=\"text-align: right;\">\n",
       "      <th></th>\n",
       "      <th>GAME_DATE_EST</th>\n",
       "      <th>GAME_ID</th>\n",
       "      <th>GAME_STATUS_TEXT</th>\n",
       "      <th>HOME_TEAM_ID</th>\n",
       "      <th>VISITOR_TEAM_ID</th>\n",
       "      <th>SEASON</th>\n",
       "      <th>TEAM_ID_home</th>\n",
       "      <th>PTS_home</th>\n",
       "      <th>FG_PCT_home</th>\n",
       "      <th>FT_PCT_home</th>\n",
       "      <th>...</th>\n",
       "      <th>AST_home</th>\n",
       "      <th>REB_home</th>\n",
       "      <th>TEAM_ID_away</th>\n",
       "      <th>PTS_away</th>\n",
       "      <th>FG_PCT_away</th>\n",
       "      <th>FT_PCT_away</th>\n",
       "      <th>FG3_PCT_away</th>\n",
       "      <th>AST_away</th>\n",
       "      <th>REB_away</th>\n",
       "      <th>HOME_TEAM_WINS</th>\n",
       "    </tr>\n",
       "  </thead>\n",
       "  <tbody>\n",
       "    <tr>\n",
       "      <th>0</th>\n",
       "      <td>2022-12-22</td>\n",
       "      <td>22200477</td>\n",
       "      <td>Final</td>\n",
       "      <td>1610612740</td>\n",
       "      <td>1610612759</td>\n",
       "      <td>2022</td>\n",
       "      <td>1610612740</td>\n",
       "      <td>126.0</td>\n",
       "      <td>0.484</td>\n",
       "      <td>0.926</td>\n",
       "      <td>...</td>\n",
       "      <td>25.0</td>\n",
       "      <td>46.0</td>\n",
       "      <td>1610612759</td>\n",
       "      <td>117.0</td>\n",
       "      <td>0.478</td>\n",
       "      <td>0.815</td>\n",
       "      <td>0.321</td>\n",
       "      <td>23.0</td>\n",
       "      <td>44.0</td>\n",
       "      <td>1</td>\n",
       "    </tr>\n",
       "    <tr>\n",
       "      <th>1</th>\n",
       "      <td>2022-12-22</td>\n",
       "      <td>22200478</td>\n",
       "      <td>Final</td>\n",
       "      <td>1610612762</td>\n",
       "      <td>1610612764</td>\n",
       "      <td>2022</td>\n",
       "      <td>1610612762</td>\n",
       "      <td>120.0</td>\n",
       "      <td>0.488</td>\n",
       "      <td>0.952</td>\n",
       "      <td>...</td>\n",
       "      <td>16.0</td>\n",
       "      <td>40.0</td>\n",
       "      <td>1610612764</td>\n",
       "      <td>112.0</td>\n",
       "      <td>0.561</td>\n",
       "      <td>0.765</td>\n",
       "      <td>0.333</td>\n",
       "      <td>20.0</td>\n",
       "      <td>37.0</td>\n",
       "      <td>1</td>\n",
       "    </tr>\n",
       "    <tr>\n",
       "      <th>2</th>\n",
       "      <td>2022-12-21</td>\n",
       "      <td>22200466</td>\n",
       "      <td>Final</td>\n",
       "      <td>1610612739</td>\n",
       "      <td>1610612749</td>\n",
       "      <td>2022</td>\n",
       "      <td>1610612739</td>\n",
       "      <td>114.0</td>\n",
       "      <td>0.482</td>\n",
       "      <td>0.786</td>\n",
       "      <td>...</td>\n",
       "      <td>22.0</td>\n",
       "      <td>37.0</td>\n",
       "      <td>1610612749</td>\n",
       "      <td>106.0</td>\n",
       "      <td>0.470</td>\n",
       "      <td>0.682</td>\n",
       "      <td>0.433</td>\n",
       "      <td>20.0</td>\n",
       "      <td>46.0</td>\n",
       "      <td>1</td>\n",
       "    </tr>\n",
       "    <tr>\n",
       "      <th>3</th>\n",
       "      <td>2022-12-21</td>\n",
       "      <td>22200467</td>\n",
       "      <td>Final</td>\n",
       "      <td>1610612755</td>\n",
       "      <td>1610612765</td>\n",
       "      <td>2022</td>\n",
       "      <td>1610612755</td>\n",
       "      <td>113.0</td>\n",
       "      <td>0.441</td>\n",
       "      <td>0.909</td>\n",
       "      <td>...</td>\n",
       "      <td>27.0</td>\n",
       "      <td>49.0</td>\n",
       "      <td>1610612765</td>\n",
       "      <td>93.0</td>\n",
       "      <td>0.392</td>\n",
       "      <td>0.735</td>\n",
       "      <td>0.261</td>\n",
       "      <td>15.0</td>\n",
       "      <td>46.0</td>\n",
       "      <td>1</td>\n",
       "    </tr>\n",
       "    <tr>\n",
       "      <th>4</th>\n",
       "      <td>2022-12-21</td>\n",
       "      <td>22200468</td>\n",
       "      <td>Final</td>\n",
       "      <td>1610612737</td>\n",
       "      <td>1610612741</td>\n",
       "      <td>2022</td>\n",
       "      <td>1610612737</td>\n",
       "      <td>108.0</td>\n",
       "      <td>0.429</td>\n",
       "      <td>1.000</td>\n",
       "      <td>...</td>\n",
       "      <td>22.0</td>\n",
       "      <td>47.0</td>\n",
       "      <td>1610612741</td>\n",
       "      <td>110.0</td>\n",
       "      <td>0.500</td>\n",
       "      <td>0.773</td>\n",
       "      <td>0.292</td>\n",
       "      <td>20.0</td>\n",
       "      <td>47.0</td>\n",
       "      <td>0</td>\n",
       "    </tr>\n",
       "  </tbody>\n",
       "</table>\n",
       "<p>5 rows × 21 columns</p>\n",
       "</div>"
      ],
      "text/plain": [
       "  GAME_DATE_EST   GAME_ID GAME_STATUS_TEXT  HOME_TEAM_ID  VISITOR_TEAM_ID  \\\n",
       "0    2022-12-22  22200477            Final    1610612740       1610612759   \n",
       "1    2022-12-22  22200478            Final    1610612762       1610612764   \n",
       "2    2022-12-21  22200466            Final    1610612739       1610612749   \n",
       "3    2022-12-21  22200467            Final    1610612755       1610612765   \n",
       "4    2022-12-21  22200468            Final    1610612737       1610612741   \n",
       "\n",
       "   SEASON  TEAM_ID_home  PTS_home  FG_PCT_home  FT_PCT_home  ...  AST_home  \\\n",
       "0    2022    1610612740     126.0        0.484        0.926  ...      25.0   \n",
       "1    2022    1610612762     120.0        0.488        0.952  ...      16.0   \n",
       "2    2022    1610612739     114.0        0.482        0.786  ...      22.0   \n",
       "3    2022    1610612755     113.0        0.441        0.909  ...      27.0   \n",
       "4    2022    1610612737     108.0        0.429        1.000  ...      22.0   \n",
       "\n",
       "   REB_home  TEAM_ID_away  PTS_away  FG_PCT_away  FT_PCT_away  FG3_PCT_away  \\\n",
       "0      46.0    1610612759     117.0        0.478        0.815         0.321   \n",
       "1      40.0    1610612764     112.0        0.561        0.765         0.333   \n",
       "2      37.0    1610612749     106.0        0.470        0.682         0.433   \n",
       "3      49.0    1610612765      93.0        0.392        0.735         0.261   \n",
       "4      47.0    1610612741     110.0        0.500        0.773         0.292   \n",
       "\n",
       "   AST_away  REB_away  HOME_TEAM_WINS  \n",
       "0      23.0      44.0               1  \n",
       "1      20.0      37.0               1  \n",
       "2      20.0      46.0               1  \n",
       "3      15.0      46.0               1  \n",
       "4      20.0      47.0               0  \n",
       "\n",
       "[5 rows x 21 columns]"
      ]
     },
     "execution_count": 15,
     "metadata": {},
     "output_type": "execute_result"
    }
   ],
   "source": [
    "games.head()"
   ]
  },
  {
   "cell_type": "code",
   "execution_count": 16,
   "metadata": {},
   "outputs": [
    {
     "data": {
      "text/plain": [
       "GAME_DATE_EST        0\n",
       "GAME_ID              0\n",
       "GAME_STATUS_TEXT     0\n",
       "HOME_TEAM_ID         0\n",
       "VISITOR_TEAM_ID      0\n",
       "SEASON               0\n",
       "TEAM_ID_home         0\n",
       "PTS_home            99\n",
       "FG_PCT_home         99\n",
       "FT_PCT_home         99\n",
       "FG3_PCT_home        99\n",
       "AST_home            99\n",
       "REB_home            99\n",
       "TEAM_ID_away         0\n",
       "PTS_away            99\n",
       "FG_PCT_away         99\n",
       "FT_PCT_away         99\n",
       "FG3_PCT_away        99\n",
       "AST_away            99\n",
       "REB_away            99\n",
       "HOME_TEAM_WINS       0\n",
       "dtype: int64"
      ]
     },
     "execution_count": 16,
     "metadata": {},
     "output_type": "execute_result"
    }
   ],
   "source": [
    "games.isnull().sum()"
   ]
  },
  {
   "cell_type": "code",
   "execution_count": 17,
   "metadata": {},
   "outputs": [
    {
     "name": "stdout",
     "output_type": "stream",
     "text": [
      "Rows with null values:\n",
      "      GAME_DATE_EST   GAME_ID GAME_STATUS_TEXT  HOME_TEAM_ID  VISITOR_TEAM_ID  \\\n",
      "19175    2003-10-24  10300116            Final    1610612753       1610612762   \n",
      "19176    2003-10-24  10300108            Final    1610612737       1610612764   \n",
      "19177    2003-10-24  10300109            Final    1610612738       1610612751   \n",
      "19178    2003-10-24  10300113            Final    1610612759       1610612745   \n",
      "19179    2003-10-24  10300112            Final    1610612749       1610612765   \n",
      "...             ...       ...              ...           ...              ...   \n",
      "19269    2003-10-09  10300019            Final    1610612743       1610612756   \n",
      "19270    2003-10-09  10300022            Final    1610612757       1610612758   \n",
      "19271    2003-10-08  10300013            Final    1610612759       1610612763   \n",
      "19278    2003-10-08  10300015            Final    1610612747       1610612744   \n",
      "19279    2003-10-07  10300006            Final    1610612747       1610612744   \n",
      "\n",
      "       SEASON  TEAM_ID_home  PTS_home  FG_PCT_home  FT_PCT_home  ...  \\\n",
      "19175    2003    1610612753       NaN          NaN          NaN  ...   \n",
      "19176    2003    1610612737       NaN          NaN          NaN  ...   \n",
      "19177    2003    1610612738       NaN          NaN          NaN  ...   \n",
      "19178    2003    1610612759       NaN          NaN          NaN  ...   \n",
      "19179    2003    1610612749       NaN          NaN          NaN  ...   \n",
      "...       ...           ...       ...          ...          ...  ...   \n",
      "19269    2003    1610612743       NaN          NaN          NaN  ...   \n",
      "19270    2003    1610612757       NaN          NaN          NaN  ...   \n",
      "19271    2003    1610612759       NaN          NaN          NaN  ...   \n",
      "19278    2003    1610612747       NaN          NaN          NaN  ...   \n",
      "19279    2003    1610612747       NaN          NaN          NaN  ...   \n",
      "\n",
      "       AST_home  REB_home  TEAM_ID_away  PTS_away  FG_PCT_away  FT_PCT_away  \\\n",
      "19175       NaN       NaN    1610612762       NaN          NaN          NaN   \n",
      "19176       NaN       NaN    1610612764       NaN          NaN          NaN   \n",
      "19177       NaN       NaN    1610612751       NaN          NaN          NaN   \n",
      "19178       NaN       NaN    1610612745       NaN          NaN          NaN   \n",
      "19179       NaN       NaN    1610612765       NaN          NaN          NaN   \n",
      "...         ...       ...           ...       ...          ...          ...   \n",
      "19269       NaN       NaN    1610612756       NaN          NaN          NaN   \n",
      "19270       NaN       NaN    1610612758       NaN          NaN          NaN   \n",
      "19271       NaN       NaN    1610612763       NaN          NaN          NaN   \n",
      "19278       NaN       NaN    1610612744       NaN          NaN          NaN   \n",
      "19279       NaN       NaN    1610612744       NaN          NaN          NaN   \n",
      "\n",
      "       FG3_PCT_away  AST_away  REB_away  HOME_TEAM_WINS  \n",
      "19175           NaN       NaN       NaN               0  \n",
      "19176           NaN       NaN       NaN               0  \n",
      "19177           NaN       NaN       NaN               0  \n",
      "19178           NaN       NaN       NaN               0  \n",
      "19179           NaN       NaN       NaN               0  \n",
      "...             ...       ...       ...             ...  \n",
      "19269           NaN       NaN       NaN               0  \n",
      "19270           NaN       NaN       NaN               0  \n",
      "19271           NaN       NaN       NaN               0  \n",
      "19278           NaN       NaN       NaN               0  \n",
      "19279           NaN       NaN       NaN               0  \n",
      "\n",
      "[99 rows x 21 columns]\n"
     ]
    }
   ],
   "source": [
    "rows_with_nulls = games[games.isnull().any(axis=1)]\n",
    "\n",
    "# Print the rows with null values\n",
    "print(\"Rows with null values:\")\n",
    "print(rows_with_nulls)"
   ]
  },
  {
   "cell_type": "code",
   "execution_count": 11,
   "metadata": {},
   "outputs": [],
   "source": [
    "numeric_columns = [\"PTS_home\", \"FG_PCT_home\", \"FT_PCT_home\", \"FG3_PCT_home\", \"AST_home\", \"REB_home\", \"PTS_away\", \"FG_PCT_away\", \"FT_PCT_away\", \"FG3_PCT_away\", \"AST_away\", \"REB_away\"]\n",
    "games[numeric_columns] = games[numeric_columns].fillna(0)  # Replace NaNs with 0\n"
   ]
  },
  {
   "cell_type": "code",
   "execution_count": null,
   "metadata": {},
   "outputs": [],
   "source": []
  },
  {
   "cell_type": "code",
   "execution_count": 12,
   "metadata": {},
   "outputs": [
    {
     "name": "stdout",
     "output_type": "stream",
     "text": [
      "Loaded 26651 rows and 21 columns to onyx-descent-417702.nba_pipeline_dataset.test_games\n"
     ]
    }
   ],
   "source": [
    "from google.cloud import bigquery\n",
    "\n",
    "# Construct a BigQuery client object.\n",
    "client = bigquery.Client(project=\"\")\n",
    "\n",
    "# TODO(developer): Set table_id to the ID of the table to create.\n",
    "table_id = \"\"\n",
    "job_config = bigquery.LoadJobConfig(\n",
    "    # schema=[\n",
    "    #     bigquery.SchemaField(\"GAME_DATE_EST\", \"DATE\"),\n",
    "    #     bigquery.SchemaField(\"GAME_ID\", \"INTEGER\"),\n",
    "    #     bigquery.SchemaField(\"GAME_STATUS_TEXT\", \"STRING\"),\n",
    "    #     bigquery.SchemaField(\"HOME_TEAM_ID\", \"INTEGER\"),\n",
    "    #     bigquery.SchemaField(\"VISITOR_TEAM_ID\", \"INTEGER\"),\n",
    "    #     bigquery.SchemaField(\"SEASON\", \"INTEGER\"),\n",
    "    #     bigquery.SchemaField(\"TEAM_ID_home\", \"INTEGER\"),\n",
    "    #     bigquery.SchemaField(\"PTS_home\", \"FLOAT\"),\n",
    "    #     bigquery.SchemaField(\"FG_PCT_home\", \"FLOAT\"),\n",
    "    #     bigquery.SchemaField(\"FT_PCT_home\", \"FLOAT\"),\n",
    "    #     bigquery.SchemaField(\"FG3_PCT_home\", \"FLOAT\"),\n",
    "    #     bigquery.SchemaField(\"AST_home\", \"FLOAT\"),\n",
    "    #     bigquery.SchemaField(\"REB_home\", \"FLOAT\"),\n",
    "    #     bigquery.SchemaField(\"TEAM_ID_away\", \"INTEGER\"),\n",
    "    #     bigquery.SchemaField(\"PTS_away\", \"FLOAT\"),\n",
    "    #     bigquery.SchemaField(\"FG_PCT_away\", \"FLOAT\"),\n",
    "    #     bigquery.SchemaField(\"FT_PCT_away\", \"FLOAT\"),\n",
    "    #     bigquery.SchemaField(\"FG3_PCT_away\", \"FLOAT\"),\n",
    "    #     bigquery.SchemaField(\"AST_away\", \"FLOAT\"),\n",
    "    #     bigquery.SchemaField(\"REB_away\", \"FLOAT\"),\n",
    "    #     bigquery.SchemaField(\"HOME_TEAM_WINS\", \"INTEGER\")\n",
    "    # ],\n",
    "    # skip_leading_rows=1,\n",
    "    # The source format defaults to CSV, so the line below is optional.\n",
    "    # source_format=bigquery.SourceFormat.CSV,\n",
    "    write_disposition=\"WRITE_TRUNCATE\"\n",
    ")\n",
    "\n",
    "job = client.load_table_from_dataframe(\n",
    "    games, table_id, job_config=job_config\n",
    ")  # Make an API request.\n",
    "job.result()  # Wait for the job to complete.\n",
    "\n",
    "table = client.get_table(table_id)  # Make an API request.\n",
    "print(\n",
    "    \"Loaded {} rows and {} columns to {}\".format(\n",
    "        table.num_rows, len(table.schema), table_id\n",
    "    )\n",
    ")"
   ]
  },
  {
   "cell_type": "code",
   "execution_count": null,
   "metadata": {},
   "outputs": [],
   "source": []
  },
  {
   "cell_type": "code",
   "execution_count": null,
   "metadata": {},
   "outputs": [],
   "source": []
  },
  {
   "cell_type": "code",
   "execution_count": 13,
   "metadata": {},
   "outputs": [
    {
     "name": "stdout",
     "output_type": "stream",
     "text": [
      "Loaded 26651 rows.\n"
     ]
    }
   ],
   "source": [
    "from google.cloud import bigquery\n",
    "\n",
    "# Construct a BigQuery client object.\n",
    "client = bigquery.Client(project=\"\")\n",
    "\n",
    "# TODO(developer): Set table_id to the ID of the table to create.\n",
    "table_id = \".nba_pipeline_dataset.test_games\"\n",
    "\n",
    "job_config = bigquery.LoadJobConfig(\n",
    "    schema=[\n",
    "        bigquery.SchemaField(\"GAME_DATE_EST\", \"DATE\"),\n",
    "        bigquery.SchemaField(\"GAME_ID\", \"INTEGER\"),\n",
    "        bigquery.SchemaField(\"GAME_STATUS_TEXT\", \"STRING\"),\n",
    "        bigquery.SchemaField(\"HOME_TEAM_ID\", \"INTEGER\"),\n",
    "        bigquery.SchemaField(\"VISITOR_TEAM_ID\", \"INTEGER\"),\n",
    "        bigquery.SchemaField(\"SEASON\", \"INTEGER\"),\n",
    "        bigquery.SchemaField(\"TEAM_ID_home\", \"INTEGER\"),\n",
    "        bigquery.SchemaField(\"PTS_home\", \"FLOAT\"),\n",
    "        bigquery.SchemaField(\"FG_PCT_home\", \"FLOAT\"),\n",
    "        bigquery.SchemaField(\"FT_PCT_home\", \"FLOAT\"),\n",
    "        bigquery.SchemaField(\"FG3_PCT_home\", \"FLOAT\"),\n",
    "        bigquery.SchemaField(\"AST_home\", \"FLOAT\"),\n",
    "        bigquery.SchemaField(\"REB_home\", \"FLOAT\"),\n",
    "        bigquery.SchemaField(\"TEAM_ID_away\", \"INTEGER\"),\n",
    "        bigquery.SchemaField(\"PTS_away\", \"FLOAT\"),\n",
    "        bigquery.SchemaField(\"FG_PCT_away\", \"FLOAT\"),\n",
    "        bigquery.SchemaField(\"FT_PCT_away\", \"FLOAT\"),\n",
    "        bigquery.SchemaField(\"FG3_PCT_away\", \"FLOAT\"),\n",
    "        bigquery.SchemaField(\"AST_away\", \"FLOAT\"),\n",
    "        bigquery.SchemaField(\"REB_away\", \"FLOAT\"),\n",
    "        bigquery.SchemaField(\"HOME_TEAM_WINS\", \"INTEGER\")\n",
    "    ],\n",
    "    skip_leading_rows=1,\n",
    "    # The source format defaults to CSV, so the line below is optional.\n",
    "    source_format=bigquery.SourceFormat.CSV,\n",
    "    write_disposition=\"WRITE_TRUNCATE\",\n",
    "    ignore_unknown_values=True\n",
    ")\n",
    "uri = \n",
    "\n",
    "load_job = client.load_table_from_uri(\n",
    "    uri, table_id, job_config=job_config\n",
    ")  # Make an API request.\n",
    "\n",
    "load_job.result()  # Waits for the job to complete.\n",
    "\n",
    "destination_table = client.get_table(table_id)  # Make an API request.\n",
    "print(\"Loaded {} rows.\".format(destination_table.num_rows))"
   ]
  },
  {
   "cell_type": "code",
   "execution_count": null,
   "metadata": {},
   "outputs": [],
   "source": []
  }
 ],
 "metadata": {
  "kernelspec": {
   "display_name": ".venv",
   "language": "python",
   "name": "python3"
  },
  "language_info": {
   "codemirror_mode": {
    "name": "ipython",
    "version": 3
   },
   "file_extension": ".py",
   "mimetype": "text/x-python",
   "name": "python",
   "nbconvert_exporter": "python",
   "pygments_lexer": "ipython3",
   "version": "3.12.1"
  }
 },
 "nbformat": 4,
 "nbformat_minor": 2
}
